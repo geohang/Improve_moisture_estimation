{
 "cells": [
  {
   "cell_type": "code",
   "execution_count": null,
   "id": "e8442a93-3011-4d24-a065-bd7272418df7",
   "metadata": {},
   "outputs": [],
   "source": [
    "import os\n",
    "\n",
    "dataert2 = ertData\n",
    "\n",
    "D = mgrConstrained.inv.response\n",
    "M = np.array(mgrConstrained.model)\n",
    "\n",
    "Mall = []\n",
    "#\n",
    "for i in range(300):\n",
    "    # pid = os.getpid()\n",
    "    dr = D *(1. + pg.randn(D.size(), seed=np.random.randint(20000, size=1)) * 0.01)\n",
    "    dataert2.set('rhoa', dr)\n",
    "    dataert2['err'] = ert1.estimateError(dataert2,absoluteUError=0.0000,relativeError=0.01)  # 1%\n",
    "    mgrConstrained.invert(data=dataert2, verbose=False, lam=15, mesh=meshafter,limits=[10., 10000.])\n",
    "    Mall.append(np.array(mgrConstrained.model))\n",
    "    # kill(pid=pid)\n",
    "    clear_output(wait=True)\n",
    "\n",
    "\n",
    "pg.show(mgrConstrained.paraDomain,mgrConstrained.model)\n",
    "ert.show(ertData,mgrConstrained.inv.response)\n",
    "ert.show(ertData,dr)"
   ]
  }
 ],
 "metadata": {
  "kernelspec": {
   "display_name": "Python 3 (ipykernel)",
   "language": "python",
   "name": "python3"
  },
  "language_info": {
   "codemirror_mode": {
    "name": "ipython",
    "version": 3
   },
   "file_extension": ".py",
   "mimetype": "text/x-python",
   "name": "python",
   "nbconvert_exporter": "python",
   "pygments_lexer": "ipython3",
   "version": "3.8.12"
  }
 },
 "nbformat": 4,
 "nbformat_minor": 5
}
